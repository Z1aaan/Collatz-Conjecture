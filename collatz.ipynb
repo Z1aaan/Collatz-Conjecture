{
 "cells": [
  {
   "cell_type": "code",
   "execution_count": 27,
   "metadata": {},
   "outputs": [
    {
     "name": "stdout",
     "output_type": "stream",
     "text": [
      "0 \n",
      " 1.0\n"
     ]
    }
   ],
   "source": [
    "a=2\n",
    "mod=a%2\n",
    "if mod==1:\n",
    "    col1=(3*a)+1\n",
    "    print(mod, '\\n',col1)\n",
    "else:\n",
    "    col2=a/2\n",
    "    print(mod, '\\n',col2)\n"
   ]
  }
 ],
 "metadata": {
  "interpreter": {
   "hash": "a53ea3100330196f3c738b54ce666835bffd6161de801629178e789f713eb5e0"
  },
  "kernelspec": {
   "display_name": "Python 3.9.7 64-bit",
   "name": "python3"
  },
  "language_info": {
   "name": "python",
   "version": "3.9.7"
  },
  "orig_nbformat": 4
 },
 "nbformat": 4,
 "nbformat_minor": 2
}
